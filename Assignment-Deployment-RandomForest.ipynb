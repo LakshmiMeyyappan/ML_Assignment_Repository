{
 "cells": [
  {
   "cell_type": "code",
   "execution_count": 1,
   "id": "1dee8c53-0227-4724-b139-6aac785512df",
   "metadata": {},
   "outputs": [],
   "source": [
    "import pickle"
   ]
  },
  {
   "cell_type": "code",
   "execution_count": 7,
   "id": "376c85ab-4d46-481c-b6f8-b9193d1818a5",
   "metadata": {},
   "outputs": [
    {
     "name": "stderr",
     "output_type": "stream",
     "text": [
      "C:\\Anaconda\\Lib\\site-packages\\sklearn\\base.py:493: UserWarning: X does not have valid feature names, but RandomForestRegressor was fitted with feature names\n",
      "  warnings.warn(\n"
     ]
    }
   ],
   "source": [
    "#load the saved model\n",
    "loaded_model=pickle.load(open(\"finalized_model_randomforest.sav\",'rb'))\n",
    "#Get inputs and predict the result\n",
    "result=loaded_model.predict([[40,53.567,2,0,1]])"
   ]
  },
  {
   "cell_type": "code",
   "execution_count": 9,
   "id": "c149eb40-66d9-4e94-82d4-9c9c31c76887",
   "metadata": {},
   "outputs": [
    {
     "data": {
      "text/plain": [
       "array([43942.8720164])"
      ]
     },
     "execution_count": 9,
     "metadata": {},
     "output_type": "execute_result"
    }
   ],
   "source": [
    "result"
   ]
  },
  {
   "cell_type": "code",
   "execution_count": null,
   "id": "4ba91b99-1d99-487f-8f54-d820f7e12c11",
   "metadata": {},
   "outputs": [],
   "source": []
  }
 ],
 "metadata": {
  "kernelspec": {
   "display_name": "Python [conda env:base] *",
   "language": "python",
   "name": "conda-base-py"
  },
  "language_info": {
   "codemirror_mode": {
    "name": "ipython",
    "version": 3
   },
   "file_extension": ".py",
   "mimetype": "text/x-python",
   "name": "python",
   "nbconvert_exporter": "python",
   "pygments_lexer": "ipython3",
   "version": "3.12.7"
  }
 },
 "nbformat": 4,
 "nbformat_minor": 5
}
